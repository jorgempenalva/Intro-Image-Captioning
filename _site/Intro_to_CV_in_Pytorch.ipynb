{
 "cells": [
  {
   "cell_type": "markdown",
   "metadata": {
    "slideshow": {
     "slide_type": "slide"
    }
   },
   "source": [
    "![alt text](images/slides/intro.png)"
   ]
  },
  {
   "cell_type": "markdown",
   "metadata": {
    "slideshow": {
     "slide_type": "slide"
    }
   },
   "source": [
    "## Table of Contents\n",
    "- Intro to PyTorch\n",
    "    - Hello World\n",
    "    - Auto Grad\n",
    "    - Linear Regression\n",
    "    - Gradient Descent\n",
    "    - Logistic Regression\n",
    "    - Data loaders for SGD\n",
    "    - Two layer neural network\n",
    "- CNNs\n",
    "- Image Classification\n",
    "\n",
    "\n",
    "\n"
   ]
  },
  {
   "cell_type": "markdown",
   "metadata": {
    "slideshow": {
     "slide_type": "slide"
    }
   },
   "source": [
    "## Intro to PyTorch\n",
    "\n",
    "Apart from the general Python imports for math, random, Pandas, and and Numpy, we will import the Torch utilities. These include the torch, torch.nn, and torch.utils for the Dataset loaders."
   ]
  },
  {
   "cell_type": "code",
   "execution_count": 2,
   "metadata": {
    "slideshow": {
     "slide_type": "subslide"
    }
   },
   "outputs": [],
   "source": [
    "# import pytorch libraries\n",
    "%matplotlib inline\n",
    "import torch \n",
    "import torch.autograd as autograd \n",
    "import torch.nn as nn \n",
    "import torch.nn.functional as F\n",
    "import torch.optim as optim\n",
    "from torch.utils.data import Dataset, DataLoader\n",
    "import numpy as np\n",
    "import pandas as pd;\n",
    "import numpy as np;\n",
    "import random;\n",
    "import math;"
   ]
  },
  {
   "cell_type": "markdown",
   "metadata": {
    "slideshow": {
     "slide_type": "slide"
    }
   },
   "source": [
    "**PyTorch consists of 4 main packages:**\n",
    "\n",
    "- torch: a general purpose array library similar to Numpy that can do computations on GPU\n",
    "- torch.autograd: a package for automatically obtaining gradients\n",
    "- torch.nn: a neural net library with common layers and cost functions\n",
    "- torch.optim: an optimization package with common optimization algorithms like SGD, Adam, etc"
   ]
  },
  {
   "cell_type": "markdown",
   "metadata": {
    "slideshow": {
     "slide_type": "slide"
    }
   },
   "source": [
    "### Hello World in PyTorch\n",
    "\n",
    "Instead of a traditional \"Hello World\" print statement, we can check PyTorch is functioning properly by creating and outputing a Tensor."
   ]
  },
  {
   "cell_type": "code",
   "execution_count": 3,
   "metadata": {
    "slideshow": {
     "slide_type": "subslide"
    }
   },
   "outputs": [],
   "source": [
    "# Create random tensor\n",
    "N = 5\n",
    "x = torch.randn(N, 10).type(torch.FloatTensor)"
   ]
  },
  {
   "cell_type": "markdown",
   "metadata": {
    "slideshow": {
     "slide_type": "fragment"
    }
   },
   "source": [
    "PyTorch tensors are like Numpy tensors but they can utilize GPUs to accelerate numerical computations."
   ]
  },
  {
   "cell_type": "code",
   "execution_count": 4,
   "metadata": {
    "slideshow": {
     "slide_type": "slide"
    }
   },
   "outputs": [
    {
     "data": {
      "text/plain": [
       "tensor([[ 1.3030, -0.0748,  0.4915, -0.6678,  0.5782,  1.4881,  0.8771, -1.7209,\n",
       "         -0.7206,  0.4409,  1.5073,  0.9110, -0.9527, -0.2817,  0.7495, -0.6145,\n",
       "          0.1710,  0.1079, -1.8551, -1.9162,  1.4655,  0.5001, -0.7878, -0.0003,\n",
       "          0.4727,  1.2159, -0.4648,  1.6314,  1.1465, -0.5747,  1.4217,  1.6874,\n",
       "          1.2847, -1.3143, -1.0050,  0.3831,  0.9101,  0.6209, -0.2820, -0.8355,\n",
       "          0.0775,  0.4980,  1.2155,  0.6661, -0.9435, -0.2264,  0.2253, -0.5042,\n",
       "          0.5226, -0.6723]])"
      ]
     },
     "execution_count": 4,
     "metadata": {},
     "output_type": "execute_result"
    }
   ],
   "source": [
    "# reshaping of tensors using .view()\n",
    "x.view(1,-1) #-1 makes torch infer the second dim"
   ]
  },
  {
   "cell_type": "markdown",
   "metadata": {
    "slideshow": {
     "slide_type": "slide"
    }
   },
   "source": [
    "## Pytorch Autograd\n",
    "\n",
    "The autograd package in PyTorch automates the computation of backward passes in neural networks. That is, the gradient of the error with respect to all parameters.\n",
    "\n",
    "In order for this to happen we need to wrapp up our data and paramerers with the aurograd.Variable() function. Each variable has a .grad property which is it’s gradient with respect to our Error function. Each variable also has a .data property which is it the actual value of the tensor."
   ]
  },
  {
   "cell_type": "code",
   "execution_count": 5,
   "metadata": {
    "slideshow": {
     "slide_type": "subslide"
    }
   },
   "outputs": [],
   "source": [
    "x = torch.tensor([1., 2., 3., 4., 5., 6.], requires_grad=True)"
   ]
  },
  {
   "cell_type": "code",
   "execution_count": 6,
   "metadata": {
    "slideshow": {
     "slide_type": "fragment"
    }
   },
   "outputs": [],
   "source": [
    "x.grad"
   ]
  },
  {
   "cell_type": "code",
   "execution_count": 7,
   "metadata": {
    "slideshow": {
     "slide_type": "fragment"
    }
   },
   "outputs": [
    {
     "data": {
      "text/plain": [
       "tensor(48., grad_fn=<SumBackward0>)"
      ]
     },
     "execution_count": 7,
     "metadata": {},
     "output_type": "execute_result"
    }
   ],
   "source": [
    "l = (2*x+1).sum()\n",
    "l"
   ]
  },
  {
   "cell_type": "code",
   "execution_count": 11,
   "metadata": {
    "slideshow": {
     "slide_type": "fragment"
    }
   },
   "outputs": [],
   "source": [
    "l.backward()"
   ]
  },
  {
   "cell_type": "code",
   "execution_count": 8,
   "metadata": {
    "slideshow": {
     "slide_type": "fragment"
    }
   },
   "outputs": [],
   "source": [
    "x.grad"
   ]
  },
  {
   "cell_type": "markdown",
   "metadata": {
    "slideshow": {
     "slide_type": "slide"
    }
   },
   "source": [
    "## Linear Regression with Pytorch\n",
    "\n",
    "The goal of linear regression is to fit a line to a set of points."
   ]
  },
  {
   "cell_type": "code",
   "execution_count": 9,
   "metadata": {
    "slideshow": {
     "slide_type": "slide"
    }
   },
   "outputs": [],
   "source": [
    "# Here we generate some fake data\n",
    "def lin(a,b,x): return a*x+b\n",
    "\n",
    "def gen_fake_data(n, a, b):\n",
    "    x = np.random.uniform(0,1,n) \n",
    "    y = lin(a,b,x) + 0.1 * np.random.normal(0,3,n)\n",
    "    return x, y\n",
    "\n",
    "x, y = gen_fake_data(50, 3., 8.)"
   ]
  },
  {
   "cell_type": "code",
   "execution_count": 10,
   "metadata": {
    "slideshow": {
     "slide_type": "subslide"
    }
   },
   "outputs": [
    {
     "data": {
      "image/png": "[encoded data removed]",
      "text/plain": [
       "<matplotlib.figure.Figure at 0x11a673c88>"
      ]
     },
     "metadata": {},
     "output_type": "display_data"
    }
   ],
   "source": [
    "import matplotlib.pyplot as plt\n",
    "plt.scatter(x,y, s=8); plt.xlabel(\"x\"); plt.ylabel(\"y\");"
   ]
  },
  {
   "cell_type": "markdown",
   "metadata": {
    "slideshow": {
     "slide_type": "fragment"
    }
   },
   "source": [
    "You want to find parameters (weights) $a$ and $b$ such that you minimize the error between the points and the line $a\\cdot x + b$. Note that here $a$ and $b$ are unknown. For a regression problem the most common error function or loss function is the mean squared error."
   ]
  },
  {
   "cell_type": "code",
   "execution_count": 11,
   "metadata": {
    "slideshow": {
     "slide_type": "subslide"
    }
   },
   "outputs": [],
   "source": [
    "def mse(y_hat, y): return ((y_hat - y) ** 2).mean()"
   ]
  },
  {
   "cell_type": "markdown",
   "metadata": {
    "slideshow": {
     "slide_type": "fragment"
    }
   },
   "source": [
    "Suppose we believe $a = 10$ and $b = 5$ then we can compute y_hat which is our prediction and then compute our error."
   ]
  },
  {
   "cell_type": "code",
   "execution_count": 12,
   "metadata": {
    "slideshow": {
     "slide_type": "fragment"
    }
   },
   "outputs": [
    {
     "data": {
      "text/plain": [
       "3.208888229511307"
      ]
     },
     "execution_count": 12,
     "metadata": {},
     "output_type": "execute_result"
    }
   ],
   "source": [
    "y_hat = lin(10,5,x)\n",
    "mse(y_hat, y)"
   ]
  },
  {
   "cell_type": "code",
   "execution_count": 13,
   "metadata": {
    "slideshow": {
     "slide_type": "fragment"
    }
   },
   "outputs": [],
   "source": [
    "def mse_loss(a, b, x, y): return mse(lin(a,b,x), y)"
   ]
  },
  {
   "cell_type": "code",
   "execution_count": 14,
   "metadata": {
    "slideshow": {
     "slide_type": "fragment"
    }
   },
   "outputs": [
    {
     "data": {
      "text/plain": [
       "3.208888229511307"
      ]
     },
     "execution_count": 14,
     "metadata": {},
     "output_type": "execute_result"
    }
   ],
   "source": [
    "mse_loss(10, 5, x, y)"
   ]
  },
  {
   "cell_type": "markdown",
   "metadata": {
    "slideshow": {
     "slide_type": "subslide"
    }
   },
   "source": [
    "So far we have specified the model (linear regression) and the evaluation criteria (or loss function). Now we need to handle optimization; that is, how do we find the best values for $a$ and $b$? How do we find the best fitting linear regression."
   ]
  },
  {
   "cell_type": "markdown",
   "metadata": {
    "slideshow": {
     "slide_type": "slide"
    }
   },
   "source": [
    "## Gradient Descent with Pytorch\n",
    "\n",
    "For a fixed dataset $x$ and $y$ mse_loss(a,b) is a function of $a$ and $b$. We would like to find the values of $a$ and $b$ that minimize that function.\n",
    "\n",
    "Gradient descent is an algorithm that minimizes functions. Given a function defined by a set of parameters, gradient descent starts with an initial set of parameter values and iteratively moves toward a set of parameter values that minimize the function. This iterative minimization is achieved by taking steps in the negative direction of the function gradient.\n",
    "\n",
    "Here is gradient descent implemented in PyTorch."
   ]
  },
  {
   "cell_type": "code",
   "execution_count": 15,
   "metadata": {
    "slideshow": {
     "slide_type": "subslide"
    }
   },
   "outputs": [
    {
     "data": {
      "text/plain": [
       "((10000,), (10000,))"
      ]
     },
     "execution_count": 15,
     "metadata": {},
     "output_type": "execute_result"
    }
   ],
   "source": [
    "# generate some more data\n",
    "x, y = gen_fake_data(10000, 3., 8.)\n",
    "x.shape, y.shape"
   ]
  },
  {
   "cell_type": "code",
   "execution_count": 16,
   "metadata": {
    "slideshow": {
     "slide_type": "subslide"
    }
   },
   "outputs": [],
   "source": [
    "# Wrap x and y as tensor \n",
    "x = torch.tensor(x)\n",
    "y = torch.tensor(y)"
   ]
  },
  {
   "cell_type": "code",
   "execution_count": 17,
   "metadata": {
    "slideshow": {
     "slide_type": "subslide"
    }
   },
   "outputs": [
    {
     "data": {
      "text/plain": [
       "(tensor([-0.1537], dtype=torch.float64, requires_grad=True),\n",
       " tensor([-0.0606], dtype=torch.float64, requires_grad=True))"
      ]
     },
     "execution_count": 17,
     "metadata": {},
     "output_type": "execute_result"
    }
   ],
   "source": [
    "# Create random Tensors for weights, and wrap them in Variables.\n",
    "# Setting requires_grad=True indicates that we want to compute gradients with\n",
    "# respect to these Variables during the backward pass.\n",
    "a, b = np.random.randn(1), np.random.randn(1)\n",
    "a = torch.tensor(a, requires_grad=True)\n",
    "b = torch.tensor(b, requires_grad=True)\n",
    "a,b"
   ]
  },
  {
   "cell_type": "code",
   "execution_count": 18,
   "metadata": {
    "slideshow": {
     "slide_type": "subslide"
    }
   },
   "outputs": [
    {
     "name": "stdout",
     "output_type": "stream",
     "text": [
      "93.94624461714483\n",
      "0.723633938873314\n",
      "0.13565739929790246\n",
      "0.12229225468962522\n",
      "0.11472799267187864\n",
      "0.10893214909537073\n",
      "0.10447860105414015\n",
      "0.10105639941099707\n",
      "0.09842670593137029\n",
      "0.09640599279750613\n"
     ]
    }
   ],
   "source": [
    "learning_rate = 1e-3\n",
    "for t in range(10000):\n",
    "    # Forward pass: compute predicted y using operations on Variables\n",
    "    loss = mse_loss(a,b,x,y)\n",
    "    if t % 1000 == 0: print(loss.item())\n",
    "    \n",
    "    # Computes the gradient of loss with respect to all Variables with requires_grad=True.\n",
    "    # After this call a.grad and b.grad will be Variables holding the gradient\n",
    "    # of the loss with respect to a and b respectively\n",
    "    loss.backward()\n",
    "    \n",
    "    # Update a and b using gradient descent; a.data and b.data are Tensors,\n",
    "    # a.grad and b.grad are Variables and a.grad.data and b.grad.data are Tensors\n",
    "    a.data -= learning_rate * a.grad.data\n",
    "    b.data -= learning_rate * b.grad.data\n",
    "    \n",
    "    # Zero the gradients\n",
    "    a.grad.data.zero_()\n",
    "    b.grad.data.zero_()"
   ]
  },
  {
   "cell_type": "code",
   "execution_count": 19,
   "metadata": {
    "slideshow": {
     "slide_type": "subslide"
    }
   },
   "outputs": [
    {
     "name": "stdout",
     "output_type": "stream",
     "text": [
      "tensor([3.2438], dtype=torch.float64, requires_grad=True) tensor([7.8683], dtype=torch.float64, requires_grad=True)\n"
     ]
    }
   ],
   "source": [
    "print(a,b)"
   ]
  },
  {
   "cell_type": "markdown",
   "metadata": {
    "slideshow": {
     "slide_type": "slide"
    }
   },
   "source": [
    "## Logistic Regression"
   ]
  },
  {
   "cell_type": "code",
   "execution_count": 20,
   "metadata": {
    "slideshow": {
     "slide_type": "subslide"
    }
   },
   "outputs": [],
   "source": [
    "# generating fake data\n",
    "# Here we generate some fake data\n",
    "def lin(a,b,x): return a*x+b\n",
    "\n",
    "def gen_logistic_fake_data(n, a, b):\n",
    "    x = np.random.uniform(-20,20, (n, 2))\n",
    "    x2_hat = lin(a,b, x[:,0])\n",
    "    y = x[:,1] > x2_hat\n",
    "    return x, y.astype(int)\n",
    "\n",
    "x, y = gen_logistic_fake_data(100, 1., 0.5)"
   ]
  },
  {
   "cell_type": "code",
   "execution_count": 21,
   "metadata": {
    "slideshow": {
     "slide_type": "subslide"
    }
   },
   "outputs": [
    {
     "data": {
      "text/plain": [
       "array([0, 1, 1, 0, 1, 1, 0, 0, 1, 1, 1, 1, 1, 1, 0, 1, 0, 0, 0, 1, 1, 0,\n",
       "       0, 1, 1, 1, 1, 1, 1, 0, 0, 0, 1, 1, 0, 0, 1, 1, 0, 1, 1, 1, 0, 1,\n",
       "       0, 1, 0, 1, 1, 0, 1, 0, 0, 1, 0, 1, 1, 1, 0, 0, 1, 1, 0, 1, 1, 1,\n",
       "       1, 1, 0, 0, 1, 1, 0, 1, 1, 1, 0, 0, 0, 0, 0, 0, 1, 1, 0, 0, 1, 1,\n",
       "       1, 1, 1, 1, 0, 0, 0, 1, 1, 1, 0, 0])"
      ]
     },
     "execution_count": 21,
     "metadata": {},
     "output_type": "execute_result"
    }
   ],
   "source": [
    "y"
   ]
  },
  {
   "cell_type": "code",
   "execution_count": 22,
   "metadata": {},
   "outputs": [
    {
     "data": {
      "text/plain": [
       "[<matplotlib.lines.Line2D at 0x11a6caba8>]"
      ]
     },
     "execution_count": 22,
     "metadata": {},
     "output_type": "execute_result"
    },
    {
     "data": {
      "image/png": "[encoded data removed]",
      "text/plain": [
       "<matplotlib.figure.Figure at 0x11a6ca9e8>"
      ]
     },
     "metadata": {},
     "output_type": "display_data"
    }
   ],
   "source": [
    "t = np.arange(-20, 20, 0.2)\n",
    "import matplotlib.pyplot as plt\n",
    "plt.scatter(x[:,0],x[:,1],c=y, s=8);\n",
    "plt.xlabel(\"x1\"); plt.ylabel(\"x2\");\n",
    "plt.plot(t, t + 0.5, 'r--')"
   ]
  },
  {
   "cell_type": "code",
   "execution_count": 24,
   "metadata": {
    "slideshow": {
     "slide_type": "subslide"
    }
   },
   "outputs": [],
   "source": [
    "#Define tensors for x,y variables\n",
    "x = torch.tensor(x).float()\n",
    "y = torch.tensor(y).float()"
   ]
  },
  {
   "cell_type": "code",
   "execution_count": 27,
   "metadata": {
    "slideshow": {
     "slide_type": "subslide"
    }
   },
   "outputs": [
    {
     "data": {
      "text/plain": [
       "Sequential(\n",
       "  (0): Linear(in_features=2, out_features=1, bias=True)\n",
       ")"
      ]
     },
     "execution_count": 27,
     "metadata": {},
     "output_type": "execute_result"
    }
   ],
   "source": [
    "#Define model as linear within a sequential container - Modules will be added to it in the order they are passed in the constructor. Alternatively, an ordered dict of modules can also be passed in.\n",
    "model = torch.nn.Sequential(\n",
    "    torch.nn.Linear(2, 1),\n",
    ")\n",
    "model"
   ]
  },
  {
   "cell_type": "code",
   "execution_count": 28,
   "metadata": {
    "slideshow": {
     "slide_type": "subslide"
    }
   },
   "outputs": [
    {
     "data": {
      "text/plain": [
       "torch.Size([100, 1])"
      ]
     },
     "execution_count": 28,
     "metadata": {},
     "output_type": "execute_result"
    }
   ],
   "source": [
    "model(x).shape"
   ]
  },
  {
   "cell_type": "code",
   "execution_count": 29,
   "metadata": {
    "slideshow": {
     "slide_type": "subslide"
    }
   },
   "outputs": [],
   "source": [
    "x, y = gen_logistic_fake_data(10000, 1., 0.5)\n",
    "x = torch.tensor(x).float()\n",
    "y = torch.tensor(y).float()"
   ]
  },
  {
   "cell_type": "code",
   "execution_count": 30,
   "metadata": {
    "slideshow": {
     "slide_type": "subslide"
    }
   },
   "outputs": [],
   "source": [
    "learning_rate = 0.1\n",
    "optimizer = torch.optim.Adam(model.parameters(), lr=learning_rate)"
   ]
  },
  {
   "cell_type": "code",
   "execution_count": 32,
   "metadata": {
    "slideshow": {
     "slide_type": "subslide"
    }
   },
   "outputs": [
    {
     "name": "stdout",
     "output_type": "stream",
     "text": [
      "0.001965112518519163\n",
      "0.001587492530234158\n",
      "0.0012827527243644\n",
      "0.0010670149931684136\n",
      "0.0009123444324359298\n",
      "0.0007976568886078894\n",
      "0.0007099861395545304\n",
      "0.0006399397971108556\n",
      "0.000583216839004308\n",
      "0.0005360309733077884\n"
     ]
    }
   ],
   "source": [
    "for t in range(10000):\n",
    "    # Forward pass: compute predicted y using operations on Variables\n",
    "    y_hat = model(x)\n",
    "    loss = F.binary_cross_entropy(torch.sigmoid(y_hat), y.unsqueeze(1))\n",
    "    if t % 1000 == 0: print(loss.item())\n",
    "       \n",
    "    # Before the backward pass, use the optimizer object to zero all of the\n",
    "    # gradients for the variables\n",
    "    optimizer.zero_grad()\n",
    "    loss.backward()\n",
    "    \n",
    "    # Calling the step function on an Optimizer makes an update to its\n",
    "    # parameters\n",
    "    optimizer.step()"
   ]
  },
  {
   "cell_type": "code",
   "execution_count": 33,
   "metadata": {
    "slideshow": {
     "slide_type": "subslide"
    }
   },
   "outputs": [
    {
     "name": "stdout",
     "output_type": "stream",
     "text": [
      "[tensor([[-0.3950,  0.3947]], grad_fn=<DivBackward0>), tensor([-0.1938], grad_fn=<DivBackward0>)]\n"
     ]
    }
   ],
   "source": [
    "print([p/136 for p in model.parameters()])"
   ]
  },
  {
   "cell_type": "markdown",
   "metadata": {
    "slideshow": {
     "slide_type": "slide"
    }
   },
   "source": [
    "## Stochastic Gradient Descent\n",
    "\n",
    "Nearly all of deep learning is powered by one very important algorithm: **stochastic gradient descent (SGD)**. SGD can be seen as an approximation of gradient descent (GD). In GD you have to run through all the samples in your training set to do a single iteration. In SGD you use only one or a subset of training samples to do the update for a parameter in a particular iteration. The subset use in every iteration is called a batch or minibatch."
   ]
  },
  {
   "cell_type": "code",
   "execution_count": 34,
   "metadata": {
    "slideshow": {
     "slide_type": "subslide"
    }
   },
   "outputs": [],
   "source": [
    "#Define Model\n",
    "model2 = torch.nn.Sequential(\n",
    "    torch.nn.Linear(1, 1),\n",
    ")"
   ]
  },
  {
   "cell_type": "code",
   "execution_count": 38,
   "metadata": {
    "slideshow": {
     "slide_type": "fragment"
    }
   },
   "outputs": [],
   "source": [
    "#import data loaders\n",
    "from torch.utils.data import Dataset, DataLoader"
   ]
  },
  {
   "cell_type": "code",
   "execution_count": 39,
   "metadata": {
    "slideshow": {
     "slide_type": "subslide"
    }
   },
   "outputs": [],
   "source": [
    "def lin(a,b,x): return a*x+b\n",
    "\n",
    "def gen_fake_data(n, a, b):\n",
    "    x = np.random.uniform(0,1,n) \n",
    "    y = lin(a,b,x) + 0.1 * np.random.normal(0,3,n)\n",
    "    return x.astype(np.float32), y.astype(np.float32)\n",
    "\n",
    "# create a dataset\n",
    "class RegressionDataset(Dataset):\n",
    "    def __init__(self, a=3, b=8, n=10000):\n",
    "        x, y = gen_fake_data(n, a, b)\n",
    "        x = torch.from_numpy(x).unsqueeze(1)\n",
    "        y = torch.from_numpy(y)\n",
    "        self.x, self.y = x, y\n",
    "    \n",
    "    def __len__(self):\n",
    "        return len(self.y)\n",
    "    \n",
    "    def __getitem__(self, idx):\n",
    "        return self.x[idx], self.y[idx]\n",
    "    \n",
    "fake_dataset = RegressionDataset()"
   ]
  },
  {
   "cell_type": "markdown",
   "metadata": {
    "slideshow": {
     "slide_type": "subslide"
    }
   },
   "source": [
    "**Next we are going to create a data loader. The data loader provides the following features:**\n",
    "\n",
    "- Batching the data\n",
    "- Shuffling the data\n",
    "- Load the data in parallel using multiprocessing workers."
   ]
  },
  {
   "cell_type": "code",
   "execution_count": 40,
   "metadata": {
    "slideshow": {
     "slide_type": "subslide"
    }
   },
   "outputs": [],
   "source": [
    "dataloader = DataLoader(fake_dataset, batch_size=1000, shuffle=True)\n",
    "x, y = next(iter(dataloader))"
   ]
  },
  {
   "cell_type": "code",
   "execution_count": 41,
   "metadata": {
    "slideshow": {
     "slide_type": "subslide"
    }
   },
   "outputs": [
    {
     "data": {
      "text/plain": [
       "tensor([10.3556,  9.6981, 11.2707,  8.8119,  8.0249,  8.8778, 10.2504,  9.1702,\n",
       "        10.8051, 11.1110, 10.6711,  7.4101, 10.6405, 10.2363,  8.4747,  8.5383,\n",
       "        10.5444,  8.6240,  9.0313, 10.5511,  8.1280, 10.7083,  7.7880,  9.3362,\n",
       "        10.8097,  9.4605,  8.6405,  9.1849,  8.6302,  8.9207,  9.6847,  9.0947,\n",
       "        10.5747, 10.3884,  8.1781,  8.5687, 10.7305,  9.7167,  8.3943, 10.2530,\n",
       "         9.3803, 10.6402,  8.4230,  8.3189, 10.7330,  8.4579,  9.3992,  9.4296,\n",
       "         8.0418,  9.6547,  9.7755,  8.2350,  9.5600, 10.2348, 10.8164,  9.9888,\n",
       "        10.6274, 10.9193,  9.7805,  8.3389,  8.2149,  9.3484,  8.8466,  9.9479,\n",
       "         9.6687, 11.1007, 10.2653,  7.6146,  8.5155,  8.0267,  9.3403,  9.4977,\n",
       "        10.8959,  8.4054,  9.5117, 11.1301, 10.4418, 10.5325, 10.8535, 10.4651,\n",
       "         9.3695, 10.0792,  9.9086, 10.4470,  9.0601,  8.5100, 10.4773,  9.3182,\n",
       "         7.9056, 10.1071, 10.5462, 10.2786, 10.8938,  9.9491,  9.3667, 10.1468,\n",
       "         9.2289, 10.9534, 10.7078,  8.0626, 10.3264, 10.2710,  8.7051,  9.2050,\n",
       "        10.6368,  8.3693,  9.9064,  9.8877,  9.7456, 10.5011,  9.6384, 10.4936,\n",
       "         8.1646, 10.0617,  8.7356,  9.0141, 10.9691,  7.8223, 10.4601, 10.2670,\n",
       "        11.0558, 10.3399, 10.3133,  8.1730,  9.8872,  8.7622,  8.2533, 11.2059,\n",
       "        11.1320, 11.1297,  9.7883, 10.8134,  9.5157,  9.2209,  9.6691,  9.6601,\n",
       "        10.0400,  8.6051,  8.8572, 10.4368,  9.0909,  9.9172,  8.9028, 10.2451,\n",
       "         9.3757,  9.4764, 10.1436, 10.7414,  8.0942,  9.7458,  8.9911,  8.5192,\n",
       "         8.5613,  8.1653,  8.2891, 10.8339,  8.7091,  8.1136,  9.2225,  8.4471,\n",
       "        10.7069,  8.5800, 10.7978, 10.2499,  8.1144, 10.9445, 10.2664,  8.7126,\n",
       "         9.0049, 10.7910,  9.8841,  7.6779,  8.6385,  8.3096,  9.3423,  8.5702,\n",
       "        10.2856,  8.4151, 10.0396,  8.1712, 11.0368,  8.4436,  8.4828,  9.6419,\n",
       "         9.9243,  9.9927,  9.1055,  9.1903, 11.4527, 10.5030,  8.8373, 10.4149,\n",
       "         8.2946,  9.8269,  8.4532,  8.3385,  9.5687,  8.0465, 10.4888,  7.5728,\n",
       "         9.4541,  8.6460, 10.3614,  8.9219,  9.1141, 10.4584,  9.0187,  8.2497,\n",
       "         9.5543, 11.2457, 10.1222, 11.3978,  9.9650,  8.8891,  7.9851,  9.3268,\n",
       "         9.6531,  9.1098,  9.3647, 10.9181,  7.6988, 10.3313,  7.8753,  8.4871,\n",
       "         9.9693,  9.5616,  9.8505, 11.0059,  8.5377,  9.2613,  8.8484,  9.3538,\n",
       "        10.6834,  8.5343, 10.9740, 10.1368,  9.0226,  9.0910,  8.5020,  9.6362,\n",
       "         9.7864,  9.8001,  9.3828,  8.1833,  8.9304,  8.5114,  8.0198, 10.1030,\n",
       "         9.5483, 10.1178, 10.9029,  8.8032,  9.4213, 10.9403,  8.0325,  8.3660,\n",
       "        10.2165,  9.7149,  8.5842, 10.4148,  9.3304,  9.8294,  8.3066,  8.5605,\n",
       "        11.4444, 10.8787, 10.8030,  9.2617,  8.7995,  8.9905,  8.5326, 10.2246,\n",
       "         9.5463,  8.4921, 10.3534, 10.7135, 10.2994,  9.2427, 10.3892, 10.9041,\n",
       "         8.8641,  8.3167, 11.1211, 10.9979,  8.3179,  8.4592, 10.0060,  9.0718,\n",
       "        10.1027,  9.1604, 10.2477,  8.1053,  9.4913,  8.6651,  9.9951,  9.1701,\n",
       "        10.6269, 10.1546,  9.9740,  8.9658, 11.2650, 10.5883,  9.1994,  9.6227,\n",
       "         9.6196,  8.6838, 10.2921,  9.4143,  8.8481, 10.1671,  9.4580,  9.8507,\n",
       "        11.1122,  9.3264, 10.2127,  9.6769,  8.5059,  8.4934, 10.4839,  8.2215,\n",
       "         8.8803, 10.2191,  8.9412,  8.3585,  8.8102,  9.5507,  8.0928, 10.7830,\n",
       "         9.9042,  8.4200,  9.7714, 10.0835, 10.1569,  8.0462,  9.9145,  9.8516,\n",
       "         9.2298, 10.8734,  8.1366, 11.0299,  8.9896,  8.5272,  9.5542, 10.2183,\n",
       "         9.0665,  8.8932,  8.8819,  9.7926,  7.9425,  8.0304,  8.9607, 10.1765,\n",
       "         8.7694,  8.6108,  9.2184,  7.6490, 10.5693, 10.5253,  9.2196, 10.5605,\n",
       "         8.9816,  8.5550, 10.2871,  9.5241,  8.5684, 10.3995, 10.0109,  8.6460,\n",
       "         9.6620, 10.7098,  9.1994,  9.1728, 10.4866, 10.0734, 10.4919,  7.9578,\n",
       "        10.7111,  9.3652, 10.4997,  8.6115, 10.5125,  8.7384, 10.1557,  7.8353,\n",
       "         8.9593, 10.0558, 10.0139,  9.5929,  9.5334, 10.1020,  8.5518, 11.3520,\n",
       "         9.9324, 11.4977,  7.6505,  9.9542,  9.2616,  8.3932, 10.7575,  8.2953,\n",
       "         8.2462,  9.2837, 10.2675, 11.4185, 10.6602,  9.8650, 10.1749,  8.8225,\n",
       "         9.3351, 10.6479, 10.4628, 11.0711, 11.2346,  9.9796,  8.0616, 10.0842,\n",
       "         8.8014,  7.7709,  8.2579,  9.5442, 11.3208,  8.6200,  8.0348,  8.1402,\n",
       "         9.3243, 10.6371, 10.1468,  8.9297, 10.4544, 10.2903,  9.3890,  8.0622,\n",
       "         8.8644, 10.5050,  7.8541, 10.6439,  9.5545,  9.3995,  9.1812, 10.1887,\n",
       "        11.6033, 10.4670,  9.9231, 10.8190,  9.9224,  8.8695,  8.9241, 11.3907,\n",
       "        10.6100,  9.3904,  7.9957,  8.2553,  8.5684, 11.2413, 10.5648,  9.5383,\n",
       "         9.6738, 10.3248,  9.4547, 10.4875,  9.9647, 10.3686, 10.3241,  8.6849,\n",
       "         9.8966,  9.6283,  9.6619, 10.0514, 11.1786, 10.1430,  9.4749,  7.9126,\n",
       "        10.0030,  8.4225,  8.8278,  9.6491,  8.8083,  9.9303,  9.6160,  8.1515,\n",
       "         9.6847,  8.4273,  8.5358,  9.1203, 10.0541,  9.0676, 10.0404, 10.0556,\n",
       "         9.9599,  8.0504,  9.0375,  8.0423,  9.8474,  8.5556, 11.0473,  9.2651,\n",
       "        10.6118,  9.6546,  7.7431,  9.4608,  8.6662,  8.6209, 10.3374,  9.2927,\n",
       "         8.0310,  9.0354,  7.9775,  7.9751,  9.8327,  9.1316,  8.1304,  9.6426,\n",
       "         9.0602,  9.5713,  8.6475, 10.9762,  7.8790,  9.5078, 10.9128, 10.1287,\n",
       "        10.4532, 10.3867,  8.6994,  8.5352,  9.4526, 10.0719,  9.5392, 10.2504,\n",
       "         7.7393,  8.8562,  9.6013, 10.9640,  8.8620,  9.0211, 10.7171, 10.0983,\n",
       "         7.7484, 10.2358,  9.7849,  9.0765, 10.1706, 11.0897,  9.1711,  9.3702,\n",
       "         9.3420,  8.2415, 10.1546, 10.1268,  9.6150,  9.4034,  9.8126, 10.3604,\n",
       "         9.6580, 11.2166, 10.8332,  9.7282,  9.7002, 10.6435,  8.8332,  9.1887,\n",
       "        10.4319, 10.9229, 10.1613,  8.4253,  9.4696,  7.8541,  8.1996,  9.3266,\n",
       "        10.1526,  9.9724,  8.5374,  8.0274,  9.6395, 10.3004, 10.7153,  7.8074,\n",
       "         9.5636,  8.3277,  8.1754,  9.9704,  9.0455,  8.7292,  9.4026,  9.9828,\n",
       "         8.9596,  8.7990,  8.6337, 10.9142,  9.2498,  9.9667, 10.1523,  9.6586,\n",
       "         8.9456,  9.2846,  9.3188,  8.2141,  8.3710,  8.1553, 10.9808,  9.4983,\n",
       "        10.2994,  9.5951,  8.5179, 10.2696,  8.5570,  9.6486,  9.7477, 10.0947,\n",
       "        10.0575, 10.2820,  9.7275,  8.7635, 10.3474,  8.7730,  8.4899,  8.7360,\n",
       "         9.7829,  9.7442, 10.3175,  8.8752,  9.8979, 10.9655,  8.2782,  8.3039,\n",
       "         8.4637,  8.9167,  9.8069,  8.0776,  9.2409, 10.5721,  8.8006,  8.2893,\n",
       "         7.9491,  9.7079,  8.8129,  8.2072, 10.5091,  9.9312, 10.3880,  9.3416,\n",
       "         8.5581,  8.8899,  8.6899,  8.4577, 10.3081,  9.2118,  8.0422,  9.1911,\n",
       "         8.4481,  8.5382, 10.1121,  8.1414,  8.2515, 10.2588,  8.9443,  8.7703,\n",
       "         9.3356, 10.5932, 10.5744,  8.7823, 11.3094,  8.9153, 10.3274, 11.0236,\n",
       "        10.0143,  8.1209, 11.4900,  8.2816,  9.7042, 10.4125,  9.4670, 10.2016,\n",
       "         8.0899,  9.3929,  8.7679,  9.4806,  8.7974,  8.3840,  9.8188, 10.9291,\n",
       "         9.7869, 10.3355,  9.1021, 10.6451, 10.1236,  8.1374,  8.2832, 10.7200,\n",
       "        10.7759,  9.7579, 10.6305,  9.0054, 10.4856, 10.2673,  9.6289,  8.7011,\n",
       "        10.6222,  9.4103, 10.5530,  8.1529, 11.1060,  9.9159, 10.9264,  9.0885,\n",
       "         8.8752, 10.2183,  9.1874,  9.9277,  8.5288,  9.8459,  8.6078, 10.7347,\n",
       "         9.9395,  9.1582,  8.6462,  8.8848, 10.6693, 10.9485, 10.5656,  9.9107,\n",
       "         9.0359,  9.9813,  8.0300,  7.9457, 10.6896,  8.0468,  9.3753,  9.2045,\n",
       "         9.2401,  8.3080,  9.4384,  8.2301, 10.8209, 10.1179,  8.6757,  9.1570,\n",
       "         9.0184,  8.8559, 10.4406,  9.3780,  8.4583, 10.5036, 10.6682, 11.8542,\n",
       "         8.5265,  8.4868, 10.9741,  9.5551, 10.2064, 11.1196, 10.2783,  8.9268,\n",
       "         9.4654,  8.5161, 10.3756,  9.8144,  8.6746,  8.2950,  9.3037, 10.0313,\n",
       "        10.7802,  9.5855,  8.0325, 11.2250,  8.0562,  8.9557, 10.0322,  8.0929,\n",
       "         9.1227,  9.0143,  8.7419, 10.6299,  8.1121, 10.5160, 10.1511, 10.8080,\n",
       "        10.5270, 10.1969, 10.6352,  8.8674,  8.3403,  9.5338,  9.9059,  8.9814,\n",
       "         8.8326,  8.5066, 10.9183, 10.1892, 11.1832, 10.0782, 10.1414,  8.9914,\n",
       "         8.2910, 11.0386, 10.7214,  8.0833,  8.7094,  8.4211,  8.0731,  9.9849,\n",
       "        10.0080,  9.7223,  8.7331,  8.5115,  9.0045,  8.4471, 10.2066,  8.9221,\n",
       "         9.0887,  8.7323,  8.5000,  8.0560,  9.9268,  9.8783,  7.8962, 10.5015,\n",
       "         9.1447,  9.9239, 10.6108,  8.8175,  8.4110, 10.5226, 10.3991,  9.4438,\n",
       "         9.8731,  9.8368,  8.5939,  9.0668,  8.4955,  9.1141,  9.0398, 11.0854,\n",
       "        10.6022,  8.0496, 10.8708,  8.7814,  9.8934, 10.0084,  9.9036, 10.3706,\n",
       "         8.0912, 10.2539,  9.2134,  9.7965,  8.5950,  8.9501,  8.1783,  9.9153,\n",
       "        10.3233,  8.4771,  8.9995, 10.5520,  9.9344, 10.3498,  8.3732,  9.0985,\n",
       "        10.5344,  8.5458,  9.7879,  9.7254,  7.9182, 10.0610,  9.5167, 10.1401,\n",
       "         8.8463,  9.4112,  9.8500,  8.5227,  8.0540,  9.7830,  9.4538,  8.9075,\n",
       "         8.3662,  9.2151,  8.8042, 10.7549,  8.0147, 10.5464, 10.6019,  9.7812,\n",
       "        10.4861, 10.2283,  8.8820,  8.3410,  8.0772,  9.4679,  9.2453,  8.2148,\n",
       "         9.7488, 10.5198, 10.6278, 11.2543, 10.2295,  7.5916, 10.2749,  9.3747,\n",
       "         9.0023, 10.1846,  9.8448,  9.3882, 10.2198,  8.8604,  9.7283,  9.7456,\n",
       "         9.4746,  7.3642,  9.0499,  9.6841, 11.1620,  8.4147, 11.1672, 11.4092,\n",
       "         9.2428,  8.2910,  8.5297,  9.4006,  8.0400, 10.1055, 10.5974, 10.7354,\n",
       "        10.2370,  9.2152,  7.7578, 10.0817,  9.9637, 10.0954,  8.8795,  8.7988,\n",
       "         9.4920,  9.6505,  9.2860,  8.9209,  9.5594, 10.4644,  9.6103, 10.6754,\n",
       "         8.8987,  8.9334,  9.6699, 10.9200,  9.6591,  9.1681,  9.0937,  9.5491,\n",
       "        10.1791,  9.5623, 10.3110,  8.5245,  8.2108,  8.5883,  9.1827, 10.9990,\n",
       "         9.4217,  9.1990,  8.1709,  9.6972,  8.1282,  9.6607, 10.6024,  8.0724,\n",
       "         8.0803,  9.0028,  8.2306,  8.6791,  8.7098,  8.4433,  9.8302, 10.1686,\n",
       "         9.8039,  8.1935, 10.3242,  7.0352,  9.5285,  9.5986,  9.5195,  9.2708,\n",
       "         8.3681,  8.1665, 10.8440,  9.8717, 10.7026, 10.1568,  7.8424,  9.5821,\n",
       "        10.6934, 10.7511,  9.3733,  9.0235,  8.8103,  9.6660,  8.6504, 10.7562,\n",
       "         9.1032,  7.9876, 10.1003, 10.6053, 10.0998,  9.2718,  8.6271,  9.0750])"
      ]
     },
     "execution_count": 41,
     "metadata": {},
     "output_type": "execute_result"
    }
   ],
   "source": [
    "y.type(torch.FloatTensor)"
   ]
  },
  {
   "cell_type": "code",
   "execution_count": 43,
   "metadata": {
    "slideshow": {
     "slide_type": "subslide"
    }
   },
   "outputs": [],
   "source": [
    "learning_rate = 0.1\n",
    "optimizer = torch.optim.Adam(model2.parameters(), lr=learning_rate)"
   ]
  },
  {
   "cell_type": "code",
   "execution_count": 49,
   "metadata": {
    "slideshow": {
     "slide_type": "subslide"
    }
   },
   "outputs": [
    {
     "name": "stdout",
     "output_type": "stream",
     "text": [
      "0.09346969425678253\n",
      "0.0923093855381012\n",
      "0.09443642199039459\n",
      "0.08615659177303314\n",
      "0.09743224829435349\n",
      "0.08724921941757202\n",
      "0.09439476579427719\n",
      "0.09284058958292007\n",
      "0.08795599639415741\n",
      "0.08613664656877518\n"
     ]
    }
   ],
   "source": [
    "from torch.autograd import Variable\n",
    "\n",
    "for t in range(1000):\n",
    "    for i, (x, y) in enumerate(dataloader): \n",
    "        x = Variable(x, requires_grad=False)\n",
    "        y = Variable(y, requires_grad=False)\n",
    "        y = y.type(torch.FloatTensor)\n",
    "        \n",
    "        y_hat = model2(x)\n",
    "        loss = F.mse_loss(y_hat, y.unsqueeze(1))\n",
    "    \n",
    "        optimizer.zero_grad()\n",
    "        loss.backward()\n",
    "    \n",
    "        optimizer.step()\n",
    "    if t % 100 == 0: print(loss.item())"
   ]
  },
  {
   "cell_type": "code",
   "execution_count": 47,
   "metadata": {},
   "outputs": [
    {
     "name": "stdout",
     "output_type": "stream",
     "text": [
      "0.4.1\n"
     ]
    }
   ],
   "source": []
  },
  {
   "cell_type": "markdown",
   "metadata": {
    "slideshow": {
     "slide_type": "slide"
    }
   },
   "source": [
    "\n",
    "## References\n",
    "\n",
    "- http://pytorch.org/tutorials/beginner/pytorch_with_examples.html\n",
    "- https://hsaghir.github.io/data_science/pytorch_starter/\n",
    "- http://a.sjtume.cn/2017/PyTorch-CNN/\n"
   ]
  }
 ],
 "metadata": {
  "celltoolbar": "Slideshow",
  "kernelspec": {
   "display_name": "Python 3",
   "language": "python",
   "name": "python3"
  },
  "language_info": {
   "codemirror_mode": {
    "name": "ipython",
    "version": 3
   },
   "file_extension": ".py",
   "mimetype": "text/x-python",
   "name": "python",
   "nbconvert_exporter": "python",
   "pygments_lexer": "ipython3",
   "version": "3.6.4"
  }
 },
 "nbformat": 4,
 "nbformat_minor": 2
}
